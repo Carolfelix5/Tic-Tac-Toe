{
 "cells": [
  {
   "cell_type": "code",
   "execution_count": 2,
   "id": "c7137cee-a6c7-4060-aa7d-1ae1014696f6",
   "metadata": {},
   "outputs": [],
   "source": [
    "import random\n",
    "board = [\"-\", \"-\", \"-\",\n",
    "         \"-\", \"-\", \"-\",\n",
    "         \"-\", \"-\", \"-\"]\n",
    "\n",
    "currentPlayer = \"X\"\n",
    "winner = None\n",
    "gameRunning = True\n",
    "\n"
   ]
  },
  {
   "cell_type": "code",
   "execution_count": 3,
   "id": "78644c39-41ab-4a7c-802e-e11c26227b5c",
   "metadata": {},
   "outputs": [],
   "source": [
    "#Create a game board\n",
    "def printBoard(board):\n",
    "    print(board[0] + \" | \" + board[1] + \" | \" + board[2])\n",
    "    print(board[3] + \" | \" + board[4] + \" | \" + board[5])\n",
    "    print(board[6] + \" | \" + board[7] + \" | \" + board[8])\n",
    "\n"
   ]
  },
  {
   "cell_type": "code",
   "execution_count": 4,
   "id": "c31e08d5-5c47-4e58-9201-1bc8c8c65ecb",
   "metadata": {},
   "outputs": [],
   "source": [
    "#Player input\n",
    "def playerInput(board):\n",
    "    inp = int(input(\"Enter a number btw 1 to 9:\"))\n",
    "    if inp >= 1 and inp <= 9 and board[inp-1] == \"-\":\n",
    "        board[inp-1] = currentPlayer\n",
    "    else:\n",
    "        print(\"Slot already taken by a player\")\n",
    "    \n",
    "        \n",
    "    "
   ]
  },
  {
   "cell_type": "code",
   "execution_count": 5,
   "id": "79f6bc9f-07aa-4fd5-a5a0-9d71fd8cf722",
   "metadata": {},
   "outputs": [],
   "source": [
    "#Check for win and tie\n",
    "def checkHorizontal(board):\n",
    "    global winner\n",
    "    if (board[0] == board[1] == board[2] and board[0]!= \"-\"):\n",
    "        winner = board[0]\n",
    "        return True\n",
    "    elif(board[3] == board[4] == board[5] and board[3]!= \"-\"):\n",
    "        winner = board[3]\n",
    "        return True\n",
    "    elif(board[6] == board[7] == board[8] and board[6]!= \"-\"):\n",
    "        winner = board[6]\n",
    "        return True\n",
    "\n",
    "def chekRow(board):\n",
    "    global winner\n",
    "    if (board[0] == board[3] == board[6] and board[0]!= \"-\"):\n",
    "        winner = board[0]\n",
    "        return True\n",
    "    elif(board[1] == board[4] == board[7] and board[1]!= \"-\"):\n",
    "        winner = board[1]\n",
    "        return True\n",
    "    elif(board[2] == board[5] == board[8] and board[2]!= \"-\"):\n",
    "        winner = board[2]\n",
    "        return True\n",
    "\n",
    "def checkDiag(board):\n",
    "    global winner\n",
    "    if (board[0] == board[4] == board[8] and board[0]!= \"-\"):\n",
    "        winner = board[0]\n",
    "        return True\n",
    "    elif(board[2] == board[4] == board[6] and board[2]!= \"-\"):\n",
    "        winner = board[2]\n",
    "        return True\n",
    "\n",
    "def checkTie(board):\n",
    "    global gameRunning\n",
    "    if \"-\" not in board:\n",
    "        printBoard(board)\n",
    "        print(\"Tie!\")\n",
    "        gameRunning = False\n",
    "\n",
    "def checkWin():\n",
    "    if checkDiag(board) or checkHorizontal(board) or chekRow(board):\n",
    "        print(f\"The winner is {winner}\")\n",
    "   \n",
    "    \n",
    "    \n",
    "    "
   ]
  },
  {
   "cell_type": "code",
   "execution_count": 6,
   "id": "1474e483-1317-45ef-9e40-a3336b48c5a6",
   "metadata": {},
   "outputs": [],
   "source": [
    "#switch the player\n",
    "def switchPlayer():\n",
    "    global currentPlayer\n",
    "    if currentPlayer == \"X\":\n",
    "        currentPlayer = \"O\"\n",
    "    else:\n",
    "        currentPlayer = \"X\""
   ]
  },
  {
   "cell_type": "code",
   "execution_count": 7,
   "id": "9c281361-7bb3-41b5-b480-ae1792214903",
   "metadata": {},
   "outputs": [],
   "source": [
    "#computer\n",
    "def computer(board):\n",
    "    while currentPlayer == \"O\":\n",
    "        position = random.randint(0,8)\n",
    "        if board[position] == \"-\":\n",
    "            board[position] = \"O\"\n",
    "            switchPlayer()"
   ]
  },
  {
   "cell_type": "code",
   "execution_count": 8,
   "id": "5b3828e9-e085-4895-a98f-08c934f7a7ee",
   "metadata": {},
   "outputs": [],
   "source": [
    "#check for win or tie"
   ]
  },
  {
   "cell_type": "code",
   "execution_count": null,
   "id": "b6f33977-8972-4bb6-aebd-aad823dd3430",
   "metadata": {},
   "outputs": [
    {
     "name": "stdout",
     "output_type": "stream",
     "text": [
      "- | - | -\n",
      "- | - | -\n",
      "- | - | -\n"
     ]
    },
    {
     "name": "stdin",
     "output_type": "stream",
     "text": [
      "Enter a number btw 1 to 9: 1\n"
     ]
    },
    {
     "name": "stdout",
     "output_type": "stream",
     "text": [
      "X | - | O\n",
      "- | - | -\n",
      "- | - | -\n"
     ]
    },
    {
     "name": "stdin",
     "output_type": "stream",
     "text": [
      "Enter a number btw 1 to 9: 2\n"
     ]
    },
    {
     "name": "stdout",
     "output_type": "stream",
     "text": [
      "X | X | O\n",
      "O | - | -\n",
      "- | - | -\n"
     ]
    },
    {
     "name": "stdin",
     "output_type": "stream",
     "text": [
      "Enter a number btw 1 to 9: 3\n"
     ]
    },
    {
     "name": "stdout",
     "output_type": "stream",
     "text": [
      "Slot already taken by a player\n",
      "X | X | O\n",
      "O | - | -\n",
      "O | - | -\n"
     ]
    },
    {
     "name": "stdin",
     "output_type": "stream",
     "text": [
      "Enter a number btw 1 to 9: 4\n"
     ]
    },
    {
     "name": "stdout",
     "output_type": "stream",
     "text": [
      "Slot already taken by a player\n",
      "The winner is O\n",
      "X | X | O\n",
      "O | O | -\n",
      "O | - | -\n"
     ]
    },
    {
     "name": "stdin",
     "output_type": "stream",
     "text": [
      "Enter a number btw 1 to 9: 5\n"
     ]
    },
    {
     "name": "stdout",
     "output_type": "stream",
     "text": [
      "Slot already taken by a player\n",
      "The winner is O\n",
      "The winner is O\n",
      "X | X | O\n",
      "O | O | -\n",
      "O | O | -\n"
     ]
    }
   ],
   "source": [
    "while gameRunning:\n",
    "    printBoard(board)\n",
    "    playerInput(board)\n",
    "    checkWin()\n",
    "    checkTie(board)\n",
    "    switchPlayer()\n",
    "    computer(board)\n",
    "    checkWin()\n",
    "    checkTie(board)\n",
    "    \n",
    "    "
   ]
  },
  {
   "cell_type": "code",
   "execution_count": null,
   "id": "669bbb56-769e-4e8a-a07a-2b76de10ef3d",
   "metadata": {},
   "outputs": [],
   "source": []
  }
 ],
 "metadata": {
  "kernelspec": {
   "display_name": "Python 3 (ipykernel)",
   "language": "python",
   "name": "python3"
  },
  "language_info": {
   "codemirror_mode": {
    "name": "ipython",
    "version": 3
   },
   "file_extension": ".py",
   "mimetype": "text/x-python",
   "name": "python",
   "nbconvert_exporter": "python",
   "pygments_lexer": "ipython3",
   "version": "3.12.4"
  }
 },
 "nbformat": 4,
 "nbformat_minor": 5
}
